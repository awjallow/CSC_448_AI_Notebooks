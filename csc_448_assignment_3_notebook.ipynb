{
 "cells": [
  {
   "cell_type": "markdown",
   "id": "c890b0d2",
   "metadata": {},
   "source": [
    "<a href=\"https://colab.research.google.com/github/awjallow/csc_448_assignment_3_notebook/blob/main/csc_448_assignment_3_notebook.ipynb\" target=\"_parent\"><img src=\"https://colab.research.google.com/assets/colab-badge.svg\" alt=\"Open In Colab\"/></a>"
   ]
  },
  {
   "cell_type": "code",
   "execution_count": 332,
   "id": "5bf8ffb4",
   "metadata": {},
   "outputs": [],
   "source": [
    "# Imports section\n",
    "import pandas as pd\n",
    "import numpy as np\n",
    "from sklearn.model_selection import train_test_split\n",
    "from sklearn.linear_model import LinearRegression\n",
    "from IPython.display import Markdown as md\n",
    "from sklearn.model_selection import ShuffleSplit\n",
    "from sklearn.model_selection import cross_val_score\n",
    "from sklearn import svm\n",
    "from sklearn.model_selection import ShuffleSplit\n",
    "from sklearn.preprocessing import PolynomialFeatures\n",
    "from sklearn import linear_model"
   ]
  },
  {
   "cell_type": "markdown",
   "id": "8d5262d6",
   "metadata": {},
   "source": [
    "## Part 1. Loading the dataset"
   ]
  },
  {
   "cell_type": "code",
   "execution_count": 333,
   "id": "b0286680",
   "metadata": {},
   "outputs": [
    {
     "data": {
      "text/html": [
       "<div>\n",
       "<style scoped>\n",
       "    .dataframe tbody tr th:only-of-type {\n",
       "        vertical-align: middle;\n",
       "    }\n",
       "\n",
       "    .dataframe tbody tr th {\n",
       "        vertical-align: top;\n",
       "    }\n",
       "\n",
       "    .dataframe thead th {\n",
       "        text-align: right;\n",
       "    }\n",
       "</style>\n",
       "<table border=\"1\" class=\"dataframe\">\n",
       "  <thead>\n",
       "    <tr style=\"text-align: right;\">\n",
       "      <th></th>\n",
       "      <th>Temperature °C</th>\n",
       "      <th>Mols KCL</th>\n",
       "      <th>Size nm^3</th>\n",
       "    </tr>\n",
       "  </thead>\n",
       "  <tbody>\n",
       "    <tr>\n",
       "      <th>0</th>\n",
       "      <td>469</td>\n",
       "      <td>647</td>\n",
       "      <td>6.244743e+05</td>\n",
       "    </tr>\n",
       "    <tr>\n",
       "      <th>1</th>\n",
       "      <td>403</td>\n",
       "      <td>694</td>\n",
       "      <td>5.779610e+05</td>\n",
       "    </tr>\n",
       "    <tr>\n",
       "      <th>2</th>\n",
       "      <td>302</td>\n",
       "      <td>975</td>\n",
       "      <td>6.196847e+05</td>\n",
       "    </tr>\n",
       "    <tr>\n",
       "      <th>3</th>\n",
       "      <td>779</td>\n",
       "      <td>916</td>\n",
       "      <td>1.460449e+06</td>\n",
       "    </tr>\n",
       "    <tr>\n",
       "      <th>4</th>\n",
       "      <td>901</td>\n",
       "      <td>18</td>\n",
       "      <td>4.325726e+04</td>\n",
       "    </tr>\n",
       "    <tr>\n",
       "      <th>5</th>\n",
       "      <td>545</td>\n",
       "      <td>637</td>\n",
       "      <td>7.124634e+05</td>\n",
       "    </tr>\n",
       "    <tr>\n",
       "      <th>6</th>\n",
       "      <td>660</td>\n",
       "      <td>519</td>\n",
       "      <td>7.006960e+05</td>\n",
       "    </tr>\n",
       "    <tr>\n",
       "      <th>7</th>\n",
       "      <td>143</td>\n",
       "      <td>869</td>\n",
       "      <td>2.718260e+05</td>\n",
       "    </tr>\n",
       "    <tr>\n",
       "      <th>8</th>\n",
       "      <td>89</td>\n",
       "      <td>461</td>\n",
       "      <td>8.919803e+04</td>\n",
       "    </tr>\n",
       "    <tr>\n",
       "      <th>9</th>\n",
       "      <td>294</td>\n",
       "      <td>776</td>\n",
       "      <td>4.770210e+05</td>\n",
       "    </tr>\n",
       "    <tr>\n",
       "      <th>10</th>\n",
       "      <td>991</td>\n",
       "      <td>117</td>\n",
       "      <td>2.441771e+05</td>\n",
       "    </tr>\n",
       "    <tr>\n",
       "      <th>11</th>\n",
       "      <td>307</td>\n",
       "      <td>781</td>\n",
       "      <td>5.006455e+05</td>\n",
       "    </tr>\n",
       "    <tr>\n",
       "      <th>12</th>\n",
       "      <td>206</td>\n",
       "      <td>70</td>\n",
       "      <td>3.145200e+04</td>\n",
       "    </tr>\n",
       "    <tr>\n",
       "      <th>13</th>\n",
       "      <td>437</td>\n",
       "      <td>599</td>\n",
       "      <td>5.390215e+05</td>\n",
       "    </tr>\n",
       "    <tr>\n",
       "      <th>14</th>\n",
       "      <td>566</td>\n",
       "      <td>75</td>\n",
       "      <td>9.185271e+04</td>\n",
       "    </tr>\n",
       "  </tbody>\n",
       "</table>\n",
       "</div>"
      ],
      "text/plain": [
       "    Temperature °C  Mols KCL     Size nm^3\n",
       "0              469       647  6.244743e+05\n",
       "1              403       694  5.779610e+05\n",
       "2              302       975  6.196847e+05\n",
       "3              779       916  1.460449e+06\n",
       "4              901        18  4.325726e+04\n",
       "5              545       637  7.124634e+05\n",
       "6              660       519  7.006960e+05\n",
       "7              143       869  2.718260e+05\n",
       "8               89       461  8.919803e+04\n",
       "9              294       776  4.770210e+05\n",
       "10             991       117  2.441771e+05\n",
       "11             307       781  5.006455e+05\n",
       "12             206        70  3.145200e+04\n",
       "13             437       599  5.390215e+05\n",
       "14             566        75  9.185271e+04"
      ]
     },
     "execution_count": 333,
     "metadata": {},
     "output_type": "execute_result"
    }
   ],
   "source": [
    "# Using pandas load the dataset (load remotely, not locally)\n",
    "df = pd.read_csv(\"https://raw.githubusercontent.com/profmcnich/example_notebook/main/science_data_large.csv\")\n",
    "\n",
    "# Output the first 15 rows of the data\n",
    "df.head(15)"
   ]
  },
  {
   "cell_type": "code",
   "execution_count": 334,
   "id": "08e7072d",
   "metadata": {},
   "outputs": [
    {
     "name": "stdout",
     "output_type": "stream",
     "text": [
      "\n",
      "SLIME DATA SUMMARY:\n",
      "\n",
      "<class 'pandas.core.frame.DataFrame'>\n",
      "RangeIndex: 1000 entries, 0 to 999\n",
      "Data columns (total 3 columns):\n",
      " #   Column          Non-Null Count  Dtype  \n",
      "---  ------          --------------  -----  \n",
      " 0   Temperature °C  1000 non-null   int64  \n",
      " 1   Mols KCL        1000 non-null   int64  \n",
      " 2   Size nm^3       1000 non-null   float64\n",
      "dtypes: float64(1), int64(2)\n",
      "memory usage: 23.6 KB\n",
      "None \n",
      "\n",
      "Average Temperature °C: 500.5 \n",
      "\n",
      "Average Mols KCL: 471.53 \n",
      "\n",
      "Average Size nm^3: 508611.1030288102 \n",
      "\n"
     ]
    }
   ],
   "source": [
    "# Display a summary of the table information (number of datapoints, etc.)\n",
    "print(\"\\nSLIME DATA SUMMARY:\\n\")\n",
    "print(df.info(), \"\\n\")\n",
    "print(\"Average Temperature °C:\", df[\"Temperature °C\"].mean(), \"\\n\")\n",
    "print(\"Average Mols KCL:\", df[\"Mols KCL\"].mean(), \"\\n\")\n",
    "print(\"Average Size nm^3:\", df[\"Size nm^3\"].mean(), \"\\n\")"
   ]
  },
  {
   "cell_type": "markdown",
   "id": "f17ed005",
   "metadata": {},
   "source": [
    "## Part 2. Splitting the dataset"
   ]
  },
  {
   "cell_type": "code",
   "execution_count": 335,
   "id": "da388d77",
   "metadata": {},
   "outputs": [],
   "source": [
    "# Take the pandas dataset and split it into our features (X) and label (y)\n",
    "features = df[[\"Temperature °C\", \"Mols KCL\"]]\n",
    "label = df[\"Size nm^3\"]\n",
    "\n",
    "X, y = features, label\n",
    "\n",
    "# Use sklearn to split the features and labels into a training/test set. (90% train, 10% test)\n",
    "X_train, X_test, y_train, y_test = train_test_split(X, y, test_size = 0.1, random_state=0)\n",
    "# X_train\n",
    "# X_test\n",
    "# print(len(X_train))\n",
    "# print(len(X_test)) \n",
    "# print(len(y_train))\n",
    "# print(len(y_test))"
   ]
  },
  {
   "cell_type": "markdown",
   "id": "91fa511b",
   "metadata": {},
   "source": [
    "## Part 3. Perform a Linear Regression "
   ]
  },
  {
   "cell_type": "markdown",
   "id": "0d3563d7",
   "metadata": {},
   "source": [
    "Sample equation: $E = mc^2$"
   ]
  },
  {
   "cell_type": "code",
   "execution_count": 336,
   "id": "1a16d0bf",
   "metadata": {},
   "outputs": [
    {
     "name": "stdout",
     "output_type": "stream",
     "text": [
      "Prediction on sample datapoint: [134891.57109752] \n",
      "\n",
      "Score: 0.8761646752736477 \n",
      "\n",
      "Score %:  87.62 \n",
      "\n",
      "Intercept: -400305.9133335322\n",
      "Coefficents [863.5810879082758, 1006.1274192135124] \n",
      "\n"
     ]
    },
    {
     "data": {
      "text/markdown": [
       "Equation: $h(x) = 863.58109x_1 + 1006.12742x_2 + -400305.91333$ <br>The trained model is at approximately 87.62% accuraccy <br>"
      ],
      "text/plain": [
       "<IPython.core.display.Markdown object>"
      ]
     },
     "execution_count": 336,
     "metadata": {},
     "output_type": "execute_result"
    }
   ],
   "source": [
    "# Use sklearn to train a model on the training set\n",
    "clf = LinearRegression()\n",
    "clf.fit(X_train, y_train)\n",
    "\n",
    "# Create a sample datapoint and predict the output of that sample with the trained model\n",
    "print(\"Prediction on sample datapoint:\", clf.predict(X_test[0:1]), \"\\n\")\n",
    "# print(\"Prediction on X_test:\\n\", clf.predict(X_test), \"\\n\")\n",
    "# print(\"y_test:\\n\", y_test, \"\\n\")\n",
    "\n",
    "# Report on the score for that model, in your own words (markdown, not code) explain what the score means\n",
    "score = clf.score(X_test, y_test)\n",
    "print(\"Score:\",score , \"\\n\")\n",
    "\n",
    "score_percent = round(score, 4) * 100\n",
    "print(\"Score %: \", score_percent , \"\\n\")\n",
    "\n",
    "# Extract the coefficents and intercept from the model and write an equation for your h(x) using LaTeX\n",
    "intercept = clf.intercept_\n",
    "print(\"Intercept:\", intercept)\n",
    "\n",
    "coefficients = clf.coef_\n",
    "print(\"Coefficents\", coefficients.tolist(), \"\\n\")\n",
    "\n",
    "x1, x2, b = round(coefficients[0], 5), round(coefficients[1], 5), round(intercept, 5)\n",
    "\n",
    "md(\"Equation: $h(x) = {}x_1 + {}x_2 + {}$ <br>The trained model is at approximately {}% accuraccy <br>\"\n",
    "   .format(x1, x2, b, score_percent))"
   ]
  },
  {
   "cell_type": "markdown",
   "id": "ed3e74af",
   "metadata": {},
   "source": [
    "## Part 4. Use Cross Validation"
   ]
  },
  {
   "cell_type": "code",
   "execution_count": 337,
   "id": "cdff06d6",
   "metadata": {},
   "outputs": [
    {
     "name": "stdout",
     "output_type": "stream",
     "text": [
      "scores: [0.85817484 0.85627834 0.85911467 0.84570261 0.8249484  0.86186425\n",
      " 0.83374192 0.86256299 0.84250783 0.85575953]\n"
     ]
    },
    {
     "data": {
      "text/markdown": [
       "The values are pretty close to each other, thereby indicating good model accuraccy"
      ],
      "text/plain": [
       "<IPython.core.display.Markdown object>"
      ]
     },
     "execution_count": 337,
     "metadata": {},
     "output_type": "execute_result"
    }
   ],
   "source": [
    "# Use the cross_val_score function to repeat your experiment across many shuffles of the data\n",
    "clf = svm.SVR(kernel='linear', C=1).fit(X_train, y_train)\n",
    "cv = ShuffleSplit(n_splits=10, test_size=0.1, random_state=42)\n",
    "scores = cross_val_score(clf, X, y, cv=cv)\n",
    "print(\"scores:\", scores)\n",
    "\n",
    "# Report on their finding and their significance\n",
    "md(\"The values are pretty close to each other, thereby indicating good model accuraccy\")"
   ]
  },
  {
   "cell_type": "markdown",
   "id": "635c733f",
   "metadata": {},
   "source": [
    "## Part 5. Using Polynomial Regression"
   ]
  },
  {
   "cell_type": "code",
   "execution_count": 338,
   "id": "befe4faa",
   "metadata": {},
   "outputs": [
    {
     "name": "stdout",
     "output_type": "stream",
     "text": [
      "Prediction: [ 170568.42856644  287802.71428305 1577891.31428999   45507.11427723\n",
      "   35586.25713579  317629.85713499  321294.99999665 1073784.02856455\n",
      "   52154.25713353   96892.5999918   811164.60000934 1564196.45715257\n",
      "  992136.59999416   48014.71428704  148395.45713308 1417962.59999921\n",
      "  513347.11429186  383617.02856594   91852.71429262  401612.42856462\n",
      " 1926272.8285997    57363.42857499  229204.02857071 1888864.45716997\n",
      "  410720.5999921  1431661.60000499   61854.02856149  335937.85713769\n",
      "  359614.02856539  577961.02857083  431400.59999215  111047.45713315\n",
      " 1972127.40002718  723568.114279   1884801.02859884  664790.60000132\n",
      " 1043505.60000393 1346573.71429268 1603235.31430199   14894.71429837\n",
      "   68900.31427549  673704.11431241   75092.02856105  365193.39999178\n",
      "  263859.85713472  237863.31428514  141099.45714666  718007.42858065\n",
      "   82132.71429293  115613.25714662 1001908.25713916   19378.82856839\n",
      " 1190948.45715917  778384.31428278  135712.1142898   863716.02856138\n",
      " 1387347.00002317  335544.9999951   415563.42857176 1486659.11428585\n",
      " 1380546.85713971   13464.02858304   26066.31429141  851571.31429967\n",
      "    9974.25714385 1303041.11430201  110457.25714741  901128.11428995\n",
      "  300269.82857119    7504.82857429  179392.11428775  408676.45713645\n",
      " 1084892.99999704  335550.4285674    82828.00000746  934857.25714507\n",
      "  631226.39999222 1156088.45714026  360768.25713804  160466.85714079\n",
      " 1242194.42859224  756182.3142761   374084.45713656  196465.02856615\n",
      "  226740.42856391   30817.1142795   758932.71427644  789596.31427491\n",
      "  773750.25713314   32629.85715463   89116.45713336   81908.45715033\n",
      "  387182.25713466   60067.11427587  249956.59999536 1785532.02858519\n",
      "  489186.25716199  282796.45713406  311881.25714033  680894.25715224] \n",
      "\n",
      "Score: 1.0 \n",
      "\n",
      "Score %: 100.0 \n",
      "\n",
      "Coefficients: [ 0.00000000e+00  1.20000000e+01 -1.09838003e-07 -1.37187969e-11\n",
      "  2.00000000e+00  2.85714287e-02] \n",
      "\n",
      "Intercept: 1.3444514479488134e-05\n"
     ]
    },
    {
     "data": {
      "text/markdown": [
       "Equation: $h(x) = 0.0x_0 + 12.0x_1 + -0.0x_2 + -0.0x_3 + 2.0x_4 + 0.02857x_5 + 1e-05$"
      ],
      "text/plain": [
       "<IPython.core.display.Markdown object>"
      ]
     },
     "execution_count": 338,
     "metadata": {},
     "output_type": "execute_result"
    }
   ],
   "source": [
    "# Using the PolynomialFeatures library perform another regression on an augmented dataset of degree 2\n",
    "poly = PolynomialFeatures(degree=2)\n",
    "x_train = poly.fit_transform(X_train)\n",
    "x_test =poly.fit_transform(X_test)\n",
    "reg = linear_model.BayesianRidge()\n",
    "reg.fit(x_train, y_train)\n",
    "\n",
    "print(f\"Prediction: {reg.predict(x_test)}\", \"\\n\")\n",
    "print(f\"Score: {reg.score(x_train,y_train)}\", \"\\n\")\n",
    "print(f\"Score %: {reg.score(x_train,y_train) * 100}\", \"\\n\")\n",
    "\n",
    "# Report on the metrics and output the resultant equation as you did in Part 3.\n",
    "coefficients, intercept = reg.coef_, reg.intercept_\n",
    "print(f\"Coefficients: {coeffs}\", \"\\n\")\n",
    "print(f\"Intercept: {intercept}\")\n",
    "\n",
    "x0, x1, x2, x3, x4, x5, b = round(coefficients[0], 5), round(coefficients[1], 5), round(coefficients[2], 5), round(coefficients[3], 5), round(coefficients[4], 5), round(coefficients[5], 5), round(intercept, 5)\n",
    "md(\"Equation: $h(x) = {}x_0 + {}x_1 + {}x_2 + {}x_3 + {}x_4 + {}x_5 + {}$\".format(x0, x1, x2, x3, x4, x5, b))"
   ]
  },
  {
   "cell_type": "code",
   "execution_count": null,
   "id": "b1b99334",
   "metadata": {},
   "outputs": [],
   "source": []
  }
 ],
 "metadata": {
  "kernelspec": {
   "display_name": "Python 3 (ipykernel)",
   "language": "python",
   "name": "python3"
  },
  "language_info": {
   "codemirror_mode": {
    "name": "ipython",
    "version": 3
   },
   "file_extension": ".py",
   "mimetype": "text/x-python",
   "name": "python",
   "nbconvert_exporter": "python",
   "pygments_lexer": "ipython3",
   "version": "3.9.7"
  }
 },
 "nbformat": 4,
 "nbformat_minor": 5
}
